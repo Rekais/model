{
  "nbformat": 4,
  "nbformat_minor": 0,
  "metadata": {
    "colab": {
      "provenance": []
    },
    "kernelspec": {
      "name": "python3",
      "display_name": "Python 3"
    },
    "language_info": {
      "name": "python"
    }
  },
  "cells": [
    {
      "cell_type": "markdown",
      "source": [
        "# Road Traffic Accidents Data Science Project\n",
        "\n",
        "## Data Cleaning\n",
        "\n",
        "In this section, we will perform preliminary data cleaning steps necessary for further analysis. These steps include removing unnecessary columns, handling missing values, converting data types, normalizing column names, and checking for duplicates.\n",
        "\n",
        "### Step 1: Remove Unnecessary Columns\n",
        "\n",
        "First, we'll remove columns that are not needed for our analysis to simplify the dataset."
      ],
      "metadata": {
        "id": "JyHJHlom4L-t"
      }
    },
    {
      "cell_type": "code",
      "source": [
        "import pandas as pd\n",
        "file_path = '/content/data_NF.csv'\n",
        "data = pd.read_csv(file_path)\n",
        "\n",
        "# Remove unnecessary columns\n",
        "columns_to_remove = ['Unnamed: 0']\n",
        "data_cleaned = data.drop(columns=columns_to_remove)\n",
        "\n",
        "# Display the first few rows of the cleaned dataset\n",
        "data_cleaned.head()"
      ],
      "metadata": {
        "colab": {
          "base_uri": "https://localhost:8080/",
          "height": 342
        },
        "id": "yKEccrt34OlW",
        "outputId": "9a3e2b09-dcc3-4ecc-b719-25c1071eac70"
      },
      "execution_count": 25,
      "outputs": [
        {
          "output_type": "execute_result",
          "data": {
            "text/plain": [
              "    id_x  police_id  vehicule_id  assure_id  souscripteur_id  \\\n",
              "0  32696      32700        29293      26960            26960   \n",
              "1  33346      33350        28891      26553            26553   \n",
              "2  33482      33486        29087      26754            26754   \n",
              "3  33496      33500        30651      28321            28321   \n",
              "4  33732      33736        30930      28600            28600   \n",
              "\n",
              "   classeBonusMalus  coefBonusMalus            DATE_AFFECTATION  bonus  \\\n",
              "0                 3             100  2017-05-11 00:00:00.000000      0   \n",
              "1                 1              80  2017-08-18 00:00:00.000000      0   \n",
              "2                 2              90  2016-09-20 00:00:00.000000      0   \n",
              "3                 1              80  2017-11-11 00:00:00.000000      0   \n",
              "4                 1              80  2016-11-14 00:00:00.000000      0   \n",
              "\n",
              "                 date_Calcule  ...        numPolice naturePolice  typePolice  \\\n",
              "0  2016-05-11 00:00:00.000000  ...  20115.0021718/3            R           I   \n",
              "1  2016-08-18 00:00:00.000000  ...  20065.0016148/1            R           I   \n",
              "2  2016-09-20 00:00:00.000000  ...  20085.0370414/3            R           I   \n",
              "3  2016-11-11 00:00:00.000000  ...  20085.0052688/7            R           I   \n",
              "4  2016-11-14 00:00:00.000000  ...  20115.0058429/4            R           I   \n",
              "\n",
              "  dateEffetPolice dateEcheancePolice dateExpirationPolice  \\\n",
              "0      2011-05-11              511.0                  NaN   \n",
              "1      2006-08-18              818.0                  NaN   \n",
              "2      2008-09-20              920.0                  NaN   \n",
              "3      2008-11-11             1111.0                  NaN   \n",
              "4      2011-11-14             1114.0                  NaN   \n",
              "\n",
              "             DATE_RESILIATION Date_Suspenssion Fraude Nombre_Sinistre  \n",
              "0  2017-03-07 00:00:00.000000              NaN  False               0  \n",
              "1  2017-06-13 00:00:00.000000              NaN  False               0  \n",
              "2  2016-12-07 00:00:00.000000              NaN  False               0  \n",
              "3  2017-10-06 00:00:00.000000              NaN  False               0  \n",
              "4  2017-01-10 00:00:00.000000              NaN  False               0  \n",
              "\n",
              "[5 rows x 33 columns]"
            ],
            "text/html": [
              "\n",
              "  <div id=\"df-70dd3238-e512-48be-ad98-e8c7104700f2\" class=\"colab-df-container\">\n",
              "    <div>\n",
              "<style scoped>\n",
              "    .dataframe tbody tr th:only-of-type {\n",
              "        vertical-align: middle;\n",
              "    }\n",
              "\n",
              "    .dataframe tbody tr th {\n",
              "        vertical-align: top;\n",
              "    }\n",
              "\n",
              "    .dataframe thead th {\n",
              "        text-align: right;\n",
              "    }\n",
              "</style>\n",
              "<table border=\"1\" class=\"dataframe\">\n",
              "  <thead>\n",
              "    <tr style=\"text-align: right;\">\n",
              "      <th></th>\n",
              "      <th>id_x</th>\n",
              "      <th>police_id</th>\n",
              "      <th>vehicule_id</th>\n",
              "      <th>assure_id</th>\n",
              "      <th>souscripteur_id</th>\n",
              "      <th>classeBonusMalus</th>\n",
              "      <th>coefBonusMalus</th>\n",
              "      <th>DATE_AFFECTATION</th>\n",
              "      <th>bonus</th>\n",
              "      <th>date_Calcule</th>\n",
              "      <th>...</th>\n",
              "      <th>numPolice</th>\n",
              "      <th>naturePolice</th>\n",
              "      <th>typePolice</th>\n",
              "      <th>dateEffetPolice</th>\n",
              "      <th>dateEcheancePolice</th>\n",
              "      <th>dateExpirationPolice</th>\n",
              "      <th>DATE_RESILIATION</th>\n",
              "      <th>Date_Suspenssion</th>\n",
              "      <th>Fraude</th>\n",
              "      <th>Nombre_Sinistre</th>\n",
              "    </tr>\n",
              "  </thead>\n",
              "  <tbody>\n",
              "    <tr>\n",
              "      <th>0</th>\n",
              "      <td>32696</td>\n",
              "      <td>32700</td>\n",
              "      <td>29293</td>\n",
              "      <td>26960</td>\n",
              "      <td>26960</td>\n",
              "      <td>3</td>\n",
              "      <td>100</td>\n",
              "      <td>2017-05-11 00:00:00.000000</td>\n",
              "      <td>0</td>\n",
              "      <td>2016-05-11 00:00:00.000000</td>\n",
              "      <td>...</td>\n",
              "      <td>20115.0021718/3</td>\n",
              "      <td>R</td>\n",
              "      <td>I</td>\n",
              "      <td>2011-05-11</td>\n",
              "      <td>511.0</td>\n",
              "      <td>NaN</td>\n",
              "      <td>2017-03-07 00:00:00.000000</td>\n",
              "      <td>NaN</td>\n",
              "      <td>False</td>\n",
              "      <td>0</td>\n",
              "    </tr>\n",
              "    <tr>\n",
              "      <th>1</th>\n",
              "      <td>33346</td>\n",
              "      <td>33350</td>\n",
              "      <td>28891</td>\n",
              "      <td>26553</td>\n",
              "      <td>26553</td>\n",
              "      <td>1</td>\n",
              "      <td>80</td>\n",
              "      <td>2017-08-18 00:00:00.000000</td>\n",
              "      <td>0</td>\n",
              "      <td>2016-08-18 00:00:00.000000</td>\n",
              "      <td>...</td>\n",
              "      <td>20065.0016148/1</td>\n",
              "      <td>R</td>\n",
              "      <td>I</td>\n",
              "      <td>2006-08-18</td>\n",
              "      <td>818.0</td>\n",
              "      <td>NaN</td>\n",
              "      <td>2017-06-13 00:00:00.000000</td>\n",
              "      <td>NaN</td>\n",
              "      <td>False</td>\n",
              "      <td>0</td>\n",
              "    </tr>\n",
              "    <tr>\n",
              "      <th>2</th>\n",
              "      <td>33482</td>\n",
              "      <td>33486</td>\n",
              "      <td>29087</td>\n",
              "      <td>26754</td>\n",
              "      <td>26754</td>\n",
              "      <td>2</td>\n",
              "      <td>90</td>\n",
              "      <td>2016-09-20 00:00:00.000000</td>\n",
              "      <td>0</td>\n",
              "      <td>2016-09-20 00:00:00.000000</td>\n",
              "      <td>...</td>\n",
              "      <td>20085.0370414/3</td>\n",
              "      <td>R</td>\n",
              "      <td>I</td>\n",
              "      <td>2008-09-20</td>\n",
              "      <td>920.0</td>\n",
              "      <td>NaN</td>\n",
              "      <td>2016-12-07 00:00:00.000000</td>\n",
              "      <td>NaN</td>\n",
              "      <td>False</td>\n",
              "      <td>0</td>\n",
              "    </tr>\n",
              "    <tr>\n",
              "      <th>3</th>\n",
              "      <td>33496</td>\n",
              "      <td>33500</td>\n",
              "      <td>30651</td>\n",
              "      <td>28321</td>\n",
              "      <td>28321</td>\n",
              "      <td>1</td>\n",
              "      <td>80</td>\n",
              "      <td>2017-11-11 00:00:00.000000</td>\n",
              "      <td>0</td>\n",
              "      <td>2016-11-11 00:00:00.000000</td>\n",
              "      <td>...</td>\n",
              "      <td>20085.0052688/7</td>\n",
              "      <td>R</td>\n",
              "      <td>I</td>\n",
              "      <td>2008-11-11</td>\n",
              "      <td>1111.0</td>\n",
              "      <td>NaN</td>\n",
              "      <td>2017-10-06 00:00:00.000000</td>\n",
              "      <td>NaN</td>\n",
              "      <td>False</td>\n",
              "      <td>0</td>\n",
              "    </tr>\n",
              "    <tr>\n",
              "      <th>4</th>\n",
              "      <td>33732</td>\n",
              "      <td>33736</td>\n",
              "      <td>30930</td>\n",
              "      <td>28600</td>\n",
              "      <td>28600</td>\n",
              "      <td>1</td>\n",
              "      <td>80</td>\n",
              "      <td>2016-11-14 00:00:00.000000</td>\n",
              "      <td>0</td>\n",
              "      <td>2016-11-14 00:00:00.000000</td>\n",
              "      <td>...</td>\n",
              "      <td>20115.0058429/4</td>\n",
              "      <td>R</td>\n",
              "      <td>I</td>\n",
              "      <td>2011-11-14</td>\n",
              "      <td>1114.0</td>\n",
              "      <td>NaN</td>\n",
              "      <td>2017-01-10 00:00:00.000000</td>\n",
              "      <td>NaN</td>\n",
              "      <td>False</td>\n",
              "      <td>0</td>\n",
              "    </tr>\n",
              "  </tbody>\n",
              "</table>\n",
              "<p>5 rows × 33 columns</p>\n",
              "</div>\n",
              "    <div class=\"colab-df-buttons\">\n",
              "\n",
              "  <div class=\"colab-df-container\">\n",
              "    <button class=\"colab-df-convert\" onclick=\"convertToInteractive('df-70dd3238-e512-48be-ad98-e8c7104700f2')\"\n",
              "            title=\"Convert this dataframe to an interactive table.\"\n",
              "            style=\"display:none;\">\n",
              "\n",
              "  <svg xmlns=\"http://www.w3.org/2000/svg\" height=\"24px\" viewBox=\"0 -960 960 960\">\n",
              "    <path d=\"M120-120v-720h720v720H120Zm60-500h600v-160H180v160Zm220 220h160v-160H400v160Zm0 220h160v-160H400v160ZM180-400h160v-160H180v160Zm440 0h160v-160H620v160ZM180-180h160v-160H180v160Zm440 0h160v-160H620v160Z\"/>\n",
              "  </svg>\n",
              "    </button>\n",
              "\n",
              "  <style>\n",
              "    .colab-df-container {\n",
              "      display:flex;\n",
              "      gap: 12px;\n",
              "    }\n",
              "\n",
              "    .colab-df-convert {\n",
              "      background-color: #E8F0FE;\n",
              "      border: none;\n",
              "      border-radius: 50%;\n",
              "      cursor: pointer;\n",
              "      display: none;\n",
              "      fill: #1967D2;\n",
              "      height: 32px;\n",
              "      padding: 0 0 0 0;\n",
              "      width: 32px;\n",
              "    }\n",
              "\n",
              "    .colab-df-convert:hover {\n",
              "      background-color: #E2EBFA;\n",
              "      box-shadow: 0px 1px 2px rgba(60, 64, 67, 0.3), 0px 1px 3px 1px rgba(60, 64, 67, 0.15);\n",
              "      fill: #174EA6;\n",
              "    }\n",
              "\n",
              "    .colab-df-buttons div {\n",
              "      margin-bottom: 4px;\n",
              "    }\n",
              "\n",
              "    [theme=dark] .colab-df-convert {\n",
              "      background-color: #3B4455;\n",
              "      fill: #D2E3FC;\n",
              "    }\n",
              "\n",
              "    [theme=dark] .colab-df-convert:hover {\n",
              "      background-color: #434B5C;\n",
              "      box-shadow: 0px 1px 3px 1px rgba(0, 0, 0, 0.15);\n",
              "      filter: drop-shadow(0px 1px 2px rgba(0, 0, 0, 0.3));\n",
              "      fill: #FFFFFF;\n",
              "    }\n",
              "  </style>\n",
              "\n",
              "    <script>\n",
              "      const buttonEl =\n",
              "        document.querySelector('#df-70dd3238-e512-48be-ad98-e8c7104700f2 button.colab-df-convert');\n",
              "      buttonEl.style.display =\n",
              "        google.colab.kernel.accessAllowed ? 'block' : 'none';\n",
              "\n",
              "      async function convertToInteractive(key) {\n",
              "        const element = document.querySelector('#df-70dd3238-e512-48be-ad98-e8c7104700f2');\n",
              "        const dataTable =\n",
              "          await google.colab.kernel.invokeFunction('convertToInteractive',\n",
              "                                                    [key], {});\n",
              "        if (!dataTable) return;\n",
              "\n",
              "        const docLinkHtml = 'Like what you see? Visit the ' +\n",
              "          '<a target=\"_blank\" href=https://colab.research.google.com/notebooks/data_table.ipynb>data table notebook</a>'\n",
              "          + ' to learn more about interactive tables.';\n",
              "        element.innerHTML = '';\n",
              "        dataTable['output_type'] = 'display_data';\n",
              "        await google.colab.output.renderOutput(dataTable, element);\n",
              "        const docLink = document.createElement('div');\n",
              "        docLink.innerHTML = docLinkHtml;\n",
              "        element.appendChild(docLink);\n",
              "      }\n",
              "    </script>\n",
              "  </div>\n",
              "\n",
              "\n",
              "<div id=\"df-c1869bae-fb46-4503-95d4-53c76bd11f52\">\n",
              "  <button class=\"colab-df-quickchart\" onclick=\"quickchart('df-c1869bae-fb46-4503-95d4-53c76bd11f52')\"\n",
              "            title=\"Suggest charts\"\n",
              "            style=\"display:none;\">\n",
              "\n",
              "<svg xmlns=\"http://www.w3.org/2000/svg\" height=\"24px\"viewBox=\"0 0 24 24\"\n",
              "     width=\"24px\">\n",
              "    <g>\n",
              "        <path d=\"M19 3H5c-1.1 0-2 .9-2 2v14c0 1.1.9 2 2 2h14c1.1 0 2-.9 2-2V5c0-1.1-.9-2-2-2zM9 17H7v-7h2v7zm4 0h-2V7h2v10zm4 0h-2v-4h2v4z\"/>\n",
              "    </g>\n",
              "</svg>\n",
              "  </button>\n",
              "\n",
              "<style>\n",
              "  .colab-df-quickchart {\n",
              "      --bg-color: #E8F0FE;\n",
              "      --fill-color: #1967D2;\n",
              "      --hover-bg-color: #E2EBFA;\n",
              "      --hover-fill-color: #174EA6;\n",
              "      --disabled-fill-color: #AAA;\n",
              "      --disabled-bg-color: #DDD;\n",
              "  }\n",
              "\n",
              "  [theme=dark] .colab-df-quickchart {\n",
              "      --bg-color: #3B4455;\n",
              "      --fill-color: #D2E3FC;\n",
              "      --hover-bg-color: #434B5C;\n",
              "      --hover-fill-color: #FFFFFF;\n",
              "      --disabled-bg-color: #3B4455;\n",
              "      --disabled-fill-color: #666;\n",
              "  }\n",
              "\n",
              "  .colab-df-quickchart {\n",
              "    background-color: var(--bg-color);\n",
              "    border: none;\n",
              "    border-radius: 50%;\n",
              "    cursor: pointer;\n",
              "    display: none;\n",
              "    fill: var(--fill-color);\n",
              "    height: 32px;\n",
              "    padding: 0;\n",
              "    width: 32px;\n",
              "  }\n",
              "\n",
              "  .colab-df-quickchart:hover {\n",
              "    background-color: var(--hover-bg-color);\n",
              "    box-shadow: 0 1px 2px rgba(60, 64, 67, 0.3), 0 1px 3px 1px rgba(60, 64, 67, 0.15);\n",
              "    fill: var(--button-hover-fill-color);\n",
              "  }\n",
              "\n",
              "  .colab-df-quickchart-complete:disabled,\n",
              "  .colab-df-quickchart-complete:disabled:hover {\n",
              "    background-color: var(--disabled-bg-color);\n",
              "    fill: var(--disabled-fill-color);\n",
              "    box-shadow: none;\n",
              "  }\n",
              "\n",
              "  .colab-df-spinner {\n",
              "    border: 2px solid var(--fill-color);\n",
              "    border-color: transparent;\n",
              "    border-bottom-color: var(--fill-color);\n",
              "    animation:\n",
              "      spin 1s steps(1) infinite;\n",
              "  }\n",
              "\n",
              "  @keyframes spin {\n",
              "    0% {\n",
              "      border-color: transparent;\n",
              "      border-bottom-color: var(--fill-color);\n",
              "      border-left-color: var(--fill-color);\n",
              "    }\n",
              "    20% {\n",
              "      border-color: transparent;\n",
              "      border-left-color: var(--fill-color);\n",
              "      border-top-color: var(--fill-color);\n",
              "    }\n",
              "    30% {\n",
              "      border-color: transparent;\n",
              "      border-left-color: var(--fill-color);\n",
              "      border-top-color: var(--fill-color);\n",
              "      border-right-color: var(--fill-color);\n",
              "    }\n",
              "    40% {\n",
              "      border-color: transparent;\n",
              "      border-right-color: var(--fill-color);\n",
              "      border-top-color: var(--fill-color);\n",
              "    }\n",
              "    60% {\n",
              "      border-color: transparent;\n",
              "      border-right-color: var(--fill-color);\n",
              "    }\n",
              "    80% {\n",
              "      border-color: transparent;\n",
              "      border-right-color: var(--fill-color);\n",
              "      border-bottom-color: var(--fill-color);\n",
              "    }\n",
              "    90% {\n",
              "      border-color: transparent;\n",
              "      border-bottom-color: var(--fill-color);\n",
              "    }\n",
              "  }\n",
              "</style>\n",
              "\n",
              "  <script>\n",
              "    async function quickchart(key) {\n",
              "      const quickchartButtonEl =\n",
              "        document.querySelector('#' + key + ' button');\n",
              "      quickchartButtonEl.disabled = true;  // To prevent multiple clicks.\n",
              "      quickchartButtonEl.classList.add('colab-df-spinner');\n",
              "      try {\n",
              "        const charts = await google.colab.kernel.invokeFunction(\n",
              "            'suggestCharts', [key], {});\n",
              "      } catch (error) {\n",
              "        console.error('Error during call to suggestCharts:', error);\n",
              "      }\n",
              "      quickchartButtonEl.classList.remove('colab-df-spinner');\n",
              "      quickchartButtonEl.classList.add('colab-df-quickchart-complete');\n",
              "    }\n",
              "    (() => {\n",
              "      let quickchartButtonEl =\n",
              "        document.querySelector('#df-c1869bae-fb46-4503-95d4-53c76bd11f52 button');\n",
              "      quickchartButtonEl.style.display =\n",
              "        google.colab.kernel.accessAllowed ? 'block' : 'none';\n",
              "    })();\n",
              "  </script>\n",
              "</div>\n",
              "\n",
              "    </div>\n",
              "  </div>\n"
            ],
            "application/vnd.google.colaboratory.intrinsic+json": {
              "type": "dataframe",
              "variable_name": "data_cleaned"
            }
          },
          "metadata": {},
          "execution_count": 25
        }
      ]
    },
    {
      "cell_type": "markdown",
      "source": [
        "### Step 2: Handling Missing Values\n",
        "\n",
        "Next, we'll address missing values in the dataset. Depending on the context, we may choose to fill these with appropriate values or drop the columns/rows with too many missing values.\n"
      ],
      "metadata": {
        "id": "IxYUYma25fgL"
      }
    },
    {
      "cell_type": "code",
      "source": [
        "# Example: Fill missing values for 'dateExpirationPolice' with a placeholder\n",
        "data_cleaned['dateExpirationPolice'].fillna('Unknown', inplace=True)\n",
        "\n",
        "# Check for remaining missing values\n",
        "data_cleaned.isnull().sum()"
      ],
      "metadata": {
        "colab": {
          "base_uri": "https://localhost:8080/",
          "height": 0
        },
        "id": "iaY1xdkR5gJ-",
        "outputId": "d2567c75-e6f4-4d9b-ff3f-b141710f94d8"
      },
      "execution_count": 26,
      "outputs": [
        {
          "output_type": "execute_result",
          "data": {
            "text/plain": [
              "id_x                          0\n",
              "police_id                     0\n",
              "vehicule_id                   0\n",
              "assure_id                     0\n",
              "souscripteur_id               0\n",
              "classeBonusMalus              0\n",
              "coefBonusMalus                0\n",
              "DATE_AFFECTATION              0\n",
              "bonus                         0\n",
              "date_Calcule                  0\n",
              "dateChangementVehicule    69286\n",
              "numChassis                    0\n",
              "puissanceFiscal               0\n",
              "numImmatriculation            0\n",
              "typeImmatriculation           0\n",
              "energie                       0\n",
              "dateInsertion                 0\n",
              "dateAjout                     0\n",
              "Marque_vehicule               0\n",
              "Usage                         0\n",
              "codeCompagnie                 0\n",
              "codeAgence                    0\n",
              "typeIntermediaire             0\n",
              "numPolice                     0\n",
              "naturePolice                  0\n",
              "typePolice                    0\n",
              "dateEffetPolice               0\n",
              "dateEcheancePolice         2605\n",
              "dateExpirationPolice          0\n",
              "DATE_RESILIATION          63020\n",
              "Date_Suspenssion          70920\n",
              "Fraude                        0\n",
              "Nombre_Sinistre               0\n",
              "dtype: int64"
            ]
          },
          "metadata": {},
          "execution_count": 26
        }
      ]
    },
    {
      "cell_type": "markdown",
      "source": [
        "## Handling Missing Values\n",
        "\n",
        "Handling missing values is a crucial step in data preparation, as it directly impacts the quality of the insights derived from the data. After assessing the dataset, we've identified columns with missing values and evaluated their significance both in terms of the volume of missing data and their importance to our analysis.\n",
        "\n",
        "### Columns with a High Volume of Missing Values\n",
        "\n",
        "- **`dateChangementVehicule`**, **`DATE_RESILIATION`**, and **`Date_Suspenssion`** have a significant number of missing values. Given the large proportion of missing data in these columns:\n",
        "  - Dropping these columns is advised if their information is not critical to our primary analysis objectives. Their high volume of missing values would introduce bias or inaccuracies if we attempted to impute or fill these gaps without a solid basis. Additionally, keeping these columns without proper treatment could distort any predictive modeling or trend analysis.\n",
        "  \n",
        "### Columns with a Moderate Amount of Missing Values\n",
        "\n",
        "- **`dateEcheancePolice`** has a moderate amount of missing values. Considering its potential relevance in understanding policy renewals or expirations:\n",
        "  - If the column is deemed important for temporal analysis or tracking policy lifecycle, imputing missing values using a method like forward fill (`ffill`) might be appropriate. This approach assumes that the date of echeance for a given entry might closely follow the one preceding it, which is reasonable for time-sequential data. This method helps maintain the integrity of temporal patterns without introducing undue bias.\n",
        "\n",
        "### Decision Rationale\n",
        "\n",
        "- **Why Drop**: Dropping columns with excessive missing values, especially when they're not central to our analysis, simplifies the dataset and focuses our resources on the most informative features. This approach is preferred when the proportion of missing data undermines the reliability of any imputation method.\n",
        "  \n",
        "- **Why Fill (Impute)**: For columns with fewer missing values or those critical to our analysis, imputing missing values helps preserve data integrity and allows for comprehensive analysis. Forward filling, for example, is chosen based on the assumption of temporal proximity and continuity, suitable for date fields in a dataset where entries are sequential or closely related.\n",
        "\n",
        "In summary, the approach to handling missing values is tailored to balance data integrity, analytical completeness, and the practical significance of each column to our project's goals. This strategic handling ensures our dataset remains robust and representative for subsequent analyses.\n"
      ],
      "metadata": {
        "id": "qDK4hxEF8QxM"
      }
    },
    {
      "cell_type": "code",
      "source": [
        "import pandas as pd\n",
        "\n",
        "# Assuming `data` is your initial DataFrame\n",
        "\n",
        "# Step 1: Drop columns with a high volume of missing values\n",
        "# These columns are deemed non-critical for our primary analysis objectives.\n",
        "columns_to_drop = ['dateChangementVehicule', 'DATE_RESILIATION', 'Date_Suspenssion']\n",
        "data_cleaned = data.drop(columns=columns_to_drop)\n",
        "\n",
        "# Step 2: Handle missing values in 'dateEcheancePolice'\n",
        "# This column has a moderate amount of missing values and is considered important.\n",
        "# We choose to impute missing values using forward fill method, assuming temporal continuity.\n",
        "data_cleaned['dateEcheancePolice'].fillna(method='ffill', inplace=True)\n",
        "\n",
        "# Fill missing values in 'dateExpirationPolice' with a placeholder indicating unknown\n",
        "data_cleaned['dateExpirationPolice'].fillna('Unknown', inplace=True)\n",
        "\n",
        "# Verify the handling of missing values\n",
        "# After this operation, 'data_cleaned' should have fewer missing values,\n",
        "# and we've retained the integrity and usefulness of our dataset for analysis.\n",
        "missing_values_summary = data_cleaned.isnull().sum()\n",
        "\n",
        "# Display the summary of remaining missing values\n",
        "print(missing_values_summary)"
      ],
      "metadata": {
        "colab": {
          "base_uri": "https://localhost:8080/",
          "height": 0
        },
        "id": "J9HhbK5H5o7g",
        "outputId": "248a88e0-c65d-4206-c26b-55cf4d3a6fb8"
      },
      "execution_count": 27,
      "outputs": [
        {
          "output_type": "stream",
          "name": "stdout",
          "text": [
            "Unnamed: 0              0\n",
            "id_x                    0\n",
            "police_id               0\n",
            "vehicule_id             0\n",
            "assure_id               0\n",
            "souscripteur_id         0\n",
            "classeBonusMalus        0\n",
            "coefBonusMalus          0\n",
            "DATE_AFFECTATION        0\n",
            "bonus                   0\n",
            "date_Calcule            0\n",
            "numChassis              0\n",
            "puissanceFiscal         0\n",
            "numImmatriculation      0\n",
            "typeImmatriculation     0\n",
            "energie                 0\n",
            "dateInsertion           0\n",
            "dateAjout               0\n",
            "Marque_vehicule         0\n",
            "Usage                   0\n",
            "codeCompagnie           0\n",
            "codeAgence              0\n",
            "typeIntermediaire       0\n",
            "numPolice               0\n",
            "naturePolice            0\n",
            "typePolice              0\n",
            "dateEffetPolice         0\n",
            "dateEcheancePolice      0\n",
            "dateExpirationPolice    0\n",
            "Fraude                  0\n",
            "Nombre_Sinistre         0\n",
            "dtype: int64\n"
          ]
        }
      ]
    },
    {
      "cell_type": "markdown",
      "source": [
        "### Data Type Conversion\n",
        "\n",
        "Convert the date columns to datetime format to facilitate time-based analysis. Ensure to adjust column names based on the current dataset structure."
      ],
      "metadata": {
        "id": "rkbigPFv9yV6"
      }
    },
    {
      "cell_type": "code",
      "source": [
        "date_columns = ['DATE_AFFECTATION', 'dateEffetPolice']  # Adjusted list of date columns\n",
        "\n",
        "# Convert these columns to datetime format\n",
        "for col in date_columns:\n",
        "    if col in data_cleaned.columns:  # Check if column exists in DataFrame\n",
        "        data_cleaned[col] = pd.to_datetime(data_cleaned[col], errors='coerce')"
      ],
      "metadata": {
        "id": "2PYO0a238bCn"
      },
      "execution_count": 28,
      "outputs": []
    },
    {
      "cell_type": "markdown",
      "source": [
        "### Normalize Column Names\n",
        "\n",
        "Standardize the column names to lowercase with underscores for easier access and manipulation."
      ],
      "metadata": {
        "id": "1PhXIYim_qfy"
      }
    },
    {
      "cell_type": "code",
      "source": [
        "data_cleaned.columns = [col.lower().replace(' ', '_') for col in data_cleaned.columns]"
      ],
      "metadata": {
        "id": "Z8_dxEdQ97Ip"
      },
      "execution_count": 29,
      "outputs": []
    },
    {
      "cell_type": "markdown",
      "source": [
        "### Distribution of `classeBonusMalus`\n",
        "\n",
        "This visualization explores the distribution of the `classe_bonus_malus` across the dataset, providing insights into the risk profiles within the data."
      ],
      "metadata": {
        "id": "KswXs8uv_zC4"
      }
    },
    {
      "cell_type": "code",
      "source": [
        "# Display current column names to identify the correct name for 'classe_bonus_malus'\n",
        "print(data_cleaned.columns)"
      ],
      "metadata": {
        "colab": {
          "base_uri": "https://localhost:8080/",
          "height": 0
        },
        "id": "puci-otbAkvw",
        "outputId": "5fc8c09d-0322-4f1f-8a5c-c7fe51203c3e"
      },
      "execution_count": 30,
      "outputs": [
        {
          "output_type": "stream",
          "name": "stdout",
          "text": [
            "Index(['unnamed:_0', 'id_x', 'police_id', 'vehicule_id', 'assure_id',\n",
            "       'souscripteur_id', 'classebonusmalus', 'coefbonusmalus',\n",
            "       'date_affectation', 'bonus', 'date_calcule', 'numchassis',\n",
            "       'puissancefiscal', 'numimmatriculation', 'typeimmatriculation',\n",
            "       'energie', 'dateinsertion', 'dateajout', 'marque_vehicule', 'usage',\n",
            "       'codecompagnie', 'codeagence', 'typeintermediaire', 'numpolice',\n",
            "       'naturepolice', 'typepolice', 'dateeffetpolice', 'dateecheancepolice',\n",
            "       'dateexpirationpolice', 'fraude', 'nombre_sinistre'],\n",
            "      dtype='object')\n"
          ]
        }
      ]
    },
    {
      "cell_type": "code",
      "source": [
        "import matplotlib.pyplot as plt\n",
        "import seaborn as sns\n",
        "\n",
        "plt.figure(figsize=(10, 6))\n",
        "sns.countplot(x='classebonusmalus', data=data_cleaned)\n",
        "plt.title('Distribution of Classe Bonus Malus')\n",
        "plt.xlabel('Classe Bonus Malus')\n",
        "plt.ylabel('Count')\n",
        "plt.show()"
      ],
      "metadata": {
        "colab": {
          "base_uri": "https://localhost:8080/",
          "height": 564
        },
        "id": "jxYRj24w_uBf",
        "outputId": "d9b634b8-b055-4b22-ce8a-c078bf47a09c"
      },
      "execution_count": 31,
      "outputs": [
        {
          "output_type": "display_data",
          "data": {
            "text/plain": [
              "<Figure size 1000x600 with 1 Axes>"
            ],
            "image/png": "[encoded data removed]"
          },
          "metadata": {}
        }
      ]
    },
    {
      "cell_type": "markdown",
      "source": [
        "### Correlation Heatmap of Numerical Features\n",
        "\n",
        "Identify relationships between numerical variables within the dataset, focusing on features relevant to traffic accidents and insurance metrics."
      ],
      "metadata": {
        "id": "WBEyqqWiA5Hu"
      }
    },
    {
      "cell_type": "code",
      "source": [
        "# List of all numerical columns in the DataFrame\n",
        "numerical_columns = data_cleaned.select_dtypes(include=['number']).columns\n",
        "\n",
        "print(numerical_columns)"
      ],
      "metadata": {
        "colab": {
          "base_uri": "https://localhost:8080/",
          "height": 0
        },
        "id": "R794cs6bB8jg",
        "outputId": "d411b06c-1217-44be-f353-b3e5c76c32a2"
      },
      "execution_count": 32,
      "outputs": [
        {
          "output_type": "stream",
          "name": "stdout",
          "text": [
            "Index(['unnamed:_0', 'id_x', 'police_id', 'vehicule_id', 'assure_id',\n",
            "       'souscripteur_id', 'classebonusmalus', 'coefbonusmalus', 'bonus',\n",
            "       'puissancefiscal', 'codecompagnie', 'codeagence', 'typeintermediaire',\n",
            "       'dateecheancepolice', 'nombre_sinistre'],\n",
            "      dtype='object')\n"
          ]
        }
      ]
    },
    {
      "cell_type": "code",
      "source": [
        "# Assuming 'coef_bonus_malus', 'bonus', 'malus', and 'nombre_sinistre' are key numerical columns\n",
        "numerical_columns = ['classebonusmalus', 'puissancefiscal', 'coefbonusmalus', 'bonus', 'nombre_sinistre']  # Adjust based on available columns\n",
        "\n",
        "# Calculate correlation matrix for the selected numerical columns\n",
        "corr_matrix = data_cleaned[numerical_columns].corr()\n",
        "\n",
        "# Plotting the heatmap\n",
        "plt.figure(figsize=(10, 8))\n",
        "sns.heatmap(corr_matrix, annot=True, cmap='coolwarm', fmt=\".2f\")\n",
        "plt.title('Correlation Heatmap')\n",
        "plt.show()"
      ],
      "metadata": {
        "colab": {
          "base_uri": "https://localhost:8080/",
          "height": 699
        },
        "id": "21LLXTWB_3AC",
        "outputId": "6ba4d5c7-2af9-4f60-8a62-65568f849045"
      },
      "execution_count": 33,
      "outputs": [
        {
          "output_type": "display_data",
          "data": {
            "text/plain": [
              "<Figure size 1000x800 with 2 Axes>"
            ],
            "image/png": "[encoded data removed]"
          },
          "metadata": {}
        }
      ]
    },
    {
      "cell_type": "markdown",
      "source": [
        "### Pie Chart of Vehicle Energy Types\n",
        "\n",
        "This pie chart shows the distribution of vehicle energy types in the dataset. Analyzing the proportion of each energy type helps in understanding which types of vehicles are more common in our data, potentially correlating this information with accident rates, fraud cases, or other relevant factors.\n"
      ],
      "metadata": {
        "id": "XUk_N1WgFGhy"
      }
    },
    {
      "cell_type": "code",
      "source": [
        "plt.figure(figsize=(10, 8))\n",
        "data_cleaned['energie'].value_counts().plot(kind='pie', autopct='%1.1f%%', startangle=140)\n",
        "plt.title('Distribution of Vehicle Energy Types')\n",
        "plt.ylabel('')  # Hide the y-label as it's not needed for pie charts\n",
        "plt.show()"
      ],
      "metadata": {
        "colab": {
          "base_uri": "https://localhost:8080/",
          "height": 675
        },
        "id": "rSLfnEw4BaB8",
        "outputId": "803d1700-413a-42ea-bf47-c2318503b4c0"
      },
      "execution_count": 34,
      "outputs": [
        {
          "output_type": "display_data",
          "data": {
            "text/plain": [
              "<Figure size 1000x800 with 1 Axes>"
            ],
            "image/png": "[encoded data removed]"
          },
          "metadata": {}
        }
      ]
    },
    {
      "cell_type": "markdown",
      "source": [
        "### Bar Chart of Accidents by Vehicle Brand\n",
        "\n",
        "This bar chart illustrates the frequency of accidents or incidents by vehicle brand. Identifying trends related to specific brands might inform risk assessment strategies, highlighting brands that are more frequently involved in accidents or claims."
      ],
      "metadata": {
        "id": "HnC_h5vVFLk5"
      }
    },
    {
      "cell_type": "code",
      "source": [
        "plt.figure(figsize=(14, 8))\n",
        "data_cleaned['marque_vehicule'].value_counts().head(10).plot(kind='bar', color='skyblue')\n",
        "plt.title('Top 10 Vehicle Brands by Accident Frequency')\n",
        "plt.xlabel('Vehicle Brand')\n",
        "plt.ylabel('Frequency')\n",
        "plt.xticks(rotation=45)\n",
        "plt.show()"
      ],
      "metadata": {
        "colab": {
          "base_uri": "https://localhost:8080/",
          "height": 641
        },
        "id": "zrzJzauaFJRg",
        "outputId": "15b10409-f47b-437a-ab89-22ac692f992d"
      },
      "execution_count": 35,
      "outputs": [
        {
          "output_type": "display_data",
          "data": {
            "text/plain": [
              "<Figure size 1400x800 with 1 Axes>"
            ],
            "image/png": "[encoded data removed]"
          },
          "metadata": {}
        }
      ]
    },
    {
      "cell_type": "markdown",
      "source": [
        "### Handling Datetime Features\n",
        "\n",
        "Machine learning models require numerical or encoded categorical data. Datetime columns in our dataset, therefore, need to be converted into a numerical format. A common approach is to extract the year, month, or day as separate features or to calculate the duration from a reference date. This step ensures our datetime information is usable for model training."
      ],
      "metadata": {
        "id": "34US7W6wH3ud"
      }
    },
    {
      "cell_type": "code",
      "source": [
        "# Convert datetime columns to numerical features, for example, by extracting the year\n",
        "data_cleaned['date_affectation_year'] = data_cleaned['date_affectation'].dt.year\n",
        "data_cleaned['dateeffetpolice_year'] = data_cleaned['dateeffetpolice'].dt.year\n",
        "\n",
        "# Now, remove the original datetime columns from the dataset to avoid the DTypePromotionError\n",
        "data_cleaned.drop(['date_affectation', 'dateeffetpolice'], axis=1, inplace=True)\n",
        "\n",
        "# Ensure all other columns are in a suitable format for modeling\n",
        "# This might involve similar conversions for any other datetime columns you have"
      ],
      "metadata": {
        "id": "IIQMqXKbH5dR"
      },
      "execution_count": 36,
      "outputs": []
    },
    {
      "cell_type": "markdown",
      "source": [
        "### Preparing the Data for Modeling\n",
        "\n",
        "The first step in our modeling process involves preparing our dataset for the models. This includes encoding categorical variables to ensure our data can be effectively used in the models, and splitting the dataset into features (X) and the target (y), which in this case is `classebonusmalus`. Finally, we'll split these into training and testing sets to evaluate our models' performance accurately."
      ],
      "metadata": {
        "id": "2RcGCY2PHK1q"
      }
    },
    {
      "cell_type": "code",
      "source": [
        "from sklearn.model_selection import train_test_split\n",
        "from sklearn.preprocessing import LabelEncoder\n",
        "\n",
        "# Encoding categorical variables\n",
        "label_encoders = {}\n",
        "categorical_columns = data_cleaned.select_dtypes(include=['object']).columns  # Adjust as necessary\n",
        "\n",
        "for col in categorical_columns:\n",
        "    le = LabelEncoder()\n",
        "    data_cleaned[col] = le.fit_transform(data_cleaned[col])\n",
        "    label_encoders[col] = le\n",
        "\n",
        "# Splitting the dataset into features and target variable\n",
        "X = data_cleaned.drop('classebonusmalus', axis=1)\n",
        "y = data_cleaned['classebonusmalus']\n",
        "\n",
        "# Splitting into training and testing sets\n",
        "X_train, X_test, y_train, y_test = train_test_split(X, y, test_size=0.2, random_state=42)"
      ],
      "metadata": {
        "id": "x10M8gcQFRWc"
      },
      "execution_count": 37,
      "outputs": []
    },
    {
      "cell_type": "code",
      "source": [
        "# Count the occurrences of each unique value in the 'classebonusmalus' column\n",
        "class_distribution = data_cleaned['classebonusmalus'].value_counts()\n",
        "\n",
        "# Calculate the percentage of each class\n",
        "class_percentage = class_distribution / class_distribution.sum() * 100\n",
        "\n",
        "# Display the distribution and percentage of each class\n",
        "print(\"Class Distribution:\\n\", class_distribution)\n",
        "print(\"\\nClass Percentage:\\n\", class_percentage)"
      ],
      "metadata": {
        "colab": {
          "base_uri": "https://localhost:8080/"
        },
        "id": "xe18g3OSQK7r",
        "outputId": "bf9afb27-f33a-42ab-a6fd-46233f4e6bfc"
      },
      "execution_count": 41,
      "outputs": [
        {
          "output_type": "stream",
          "name": "stdout",
          "text": [
            "Class Distribution:\n",
            " 1     16903\n",
            "3     13558\n",
            "2     12503\n",
            "4     12438\n",
            "5      7538\n",
            "6      4325\n",
            "8      2513\n",
            "7      2080\n",
            "9       111\n",
            "10       37\n",
            "11       33\n",
            "Name: classebonusmalus, dtype: int64\n",
            "\n",
            "Class Percentage:\n",
            " 1     23.463679\n",
            "3     18.820361\n",
            "2     17.355877\n",
            "4     17.265648\n",
            "5     10.463777\n",
            "6      6.003692\n",
            "8      3.488388\n",
            "7      2.887325\n",
            "9      0.154083\n",
            "10     0.051361\n",
            "11     0.045809\n",
            "Name: classebonusmalus, dtype: float64\n"
          ]
        }
      ]
    },
    {
      "cell_type": "code",
      "source": [
        "import matplotlib.pyplot as plt\n",
        "import seaborn as sns\n",
        "\n",
        "# Set the aesthetic style of the plots\n",
        "sns.set_style(\"whitegrid\")\n",
        "\n",
        "# Plotting the class distribution of 'classebonusmalus'\n",
        "plt.figure(figsize=(12, 6))\n",
        "class_counts = data_cleaned['classebonusmalus'].value_counts()\n",
        "sns.barplot(x=class_counts.index, y=class_counts.values, palette=\"viridis\")\n",
        "plt.title('Class Distribution in classebonusmalus')\n",
        "plt.xlabel('Class')\n",
        "plt.ylabel('Frequency')\n",
        "plt.xticks(rotation=45)  # Rotate class labels to improve readability\n",
        "plt.show()"
      ],
      "metadata": {
        "colab": {
          "base_uri": "https://localhost:8080/",
          "height": 680
        },
        "id": "0mwBX_kEQM0R",
        "outputId": "e40f8b08-f961-407b-e91d-4f08d518138a"
      },
      "execution_count": 42,
      "outputs": [
        {
          "output_type": "stream",
          "name": "stderr",
          "text": [
            "<ipython-input-42-0d61d51cf15b>:10: FutureWarning: \n",
            "\n",
            "Passing `palette` without assigning `hue` is deprecated and will be removed in v0.14.0. Assign the `x` variable to `hue` and set `legend=False` for the same effect.\n",
            "\n",
            "  sns.barplot(x=class_counts.index, y=class_counts.values, palette=\"viridis\")\n"
          ]
        },
        {
          "output_type": "display_data",
          "data": {
            "text/plain": [
              "<Figure size 1200x600 with 1 Axes>"
            ],
            "image/png": "[encoded data removed]"
          },
          "metadata": {}
        }
      ]
    },
    {
      "cell_type": "markdown",
      "source": [
        "### Understanding Evaluation Metrics: Accuracy, Precision, Recall, and F1-Score\n",
        "\n",
        "The metrics used to evaluate the models—Accuracy, Precision, Recall, and F1-Score—each provide different insights into the model's performance:\n",
        "\n",
        "1. **Accuracy**: The simplest metric, it measures the proportion of correctly predicted observations to the total observations. It is calculated as:\n",
        "   \n",
        "   $$\\text{Accuracy} = \\frac{\\text{True Positives} + \\text{True Negatives}}{\\text{Total Observations}}$$\n",
        "   \n",
        "   While intuitive, accuracy can be misleading in imbalanced datasets, where predicting the majority class for all observations can still lead to a high accuracy score.\n",
        "\n",
        "2. **Precision**: Measures the proportion of correctly predicted positive observations to the total predicted positives. It's particularly important in scenarios where the cost of a false positive is high. Calculated as:\n",
        "   \n",
        "   $$\\text{Precision} = \\frac{\\text{True Positives}}{\\text{True Positives} + \\text{False Positives}}$$\n",
        "\n",
        "3. **Recall** (Sensitivity): Measures the proportion of correctly predicted positive observations to all observations in the actual class. It's crucial when the cost of a false negative is high. Calculated as:\n",
        "   \n",
        "   $$\\text{Recall} = \\frac{\\text{True Positives}}{\\text{True Positives} + \\text{False Negatives}}$$\n",
        "\n",
        "4. **F1-Score**: The harmonic mean of Precision and Recall, providing a balance between the two. It is especially useful when you need to balance precision and recall, and is calculated as:\n",
        "   \n",
        "   $$\\text{F1-Score} = 2 \\times \\frac{\\text{Precision} \\times \\text{Recall}}{\\text{Precision} + \\text{Recall}}$$\n",
        "\n",
        "These metrics collectively offer a comprehensive view of a model's performance, beyond what accuracy can provide on its own, allowing for more nuanced evaluations especially in imbalanced datasets or when specific types of prediction errors carry different costs."
      ],
      "metadata": {
        "id": "6vikUhvcWCYj"
      }
    },
    {
      "cell_type": "markdown",
      "source": [
        "### Model Training and Evaluation\n",
        "\n",
        "In this step, we train several models on our dataset and evaluate their performance using various metrics including accuracy, precision, recall, and F1-score. This comprehensive evaluation will help us determine the best model for predicting the `classebonusmalus` column."
      ],
      "metadata": {
        "id": "FZJEllZZHT3u"
      }
    },
    {
      "cell_type": "code",
      "source": [
        "from sklearn.metrics import accuracy_score, precision_score, recall_score, f1_score\n",
        "from sklearn.ensemble import RandomForestClassifier, GradientBoostingClassifier\n",
        "from sklearn.linear_model import LogisticRegression\n",
        "from sklearn.svm import SVC\n",
        "\n",
        "models = {\n",
        "    \"Logistic Regression\": LogisticRegression(max_iter=1000),\n",
        "    \"Random Forest\": RandomForestClassifier(n_estimators=100),\n",
        "    \"Gradient Boosting\": GradientBoostingClassifier(n_estimators=100),\n",
        "    \"SVM\": SVC()\n",
        "}\n",
        "\n",
        "results = {}\n",
        "\n",
        "for name, model in models.items():\n",
        "    model.fit(X_train, y_train)\n",
        "    y_pred = model.predict(X_test)\n",
        "    results[name] = {\n",
        "        'Accuracy': accuracy_score(y_test, y_pred),\n",
        "        'Precision': precision_score(y_test, y_pred, average='weighted', zero_division=0),\n",
        "        'Recall': recall_score(y_test, y_pred, average='weighted'),\n",
        "        'F1-Score': f1_score(y_test, y_pred, average='weighted')\n",
        "    }\n",
        "\n",
        "# Display the results\n",
        "for model in results:\n",
        "    print(f\"{model} - Accuracy: {results[model]['Accuracy']:.2f}, Precision: {results[model]['Precision']:.2f}, Recall: {results[model]['Recall']:.2f}, F1-Score: {results[model]['F1-Score']:.2f}\")"
      ],
      "metadata": {
        "colab": {
          "base_uri": "https://localhost:8080/",
          "height": 0
        },
        "id": "Y3PIxUpbHOQ-",
        "outputId": "8f5c08d5-caa0-48eb-915b-f67017836d4f"
      },
      "execution_count": 38,
      "outputs": [
        {
          "output_type": "stream",
          "name": "stderr",
          "text": [
            "/usr/local/lib/python3.10/dist-packages/sklearn/linear_model/_logistic.py:458: ConvergenceWarning: lbfgs failed to converge (status=1):\n",
            "STOP: TOTAL NO. of ITERATIONS REACHED LIMIT.\n",
            "\n",
            "Increase the number of iterations (max_iter) or scale the data as shown in:\n",
            "    https://scikit-learn.org/stable/modules/preprocessing.html\n",
            "Please also refer to the documentation for alternative solver options:\n",
            "    https://scikit-learn.org/stable/modules/linear_model.html#logistic-regression\n",
            "  n_iter_i = _check_optimize_result(\n"
          ]
        },
        {
          "output_type": "stream",
          "name": "stdout",
          "text": [
            "Logistic Regression - Accuracy: 0.25, Precision: 0.18, Recall: 0.25, F1-Score: 0.17\n",
            "Random Forest - Accuracy: 0.98, Precision: 0.98, Recall: 0.98, F1-Score: 0.98\n",
            "Gradient Boosting - Accuracy: 0.99, Precision: 0.99, Recall: 0.99, F1-Score: 0.99\n",
            "SVM - Accuracy: 0.24, Precision: 0.13, Recall: 0.24, F1-Score: 0.14\n"
          ]
        }
      ]
    },
    {
      "cell_type": "markdown",
      "source": [
        "### Model Comparison and Selection\n",
        "\n",
        "With our models trained and their performance evaluated, we now compare them across all metrics to select the best model for our needs. This comparison will consider accuracy, precision, recall, and F1-score, allowing us to choose the model that offers the best balance of these metrics for predicting the `classebonusmalus` column."
      ],
      "metadata": {
        "id": "-e5t0C0nNGU7"
      }
    },
    {
      "cell_type": "code",
      "source": [
        "import pandas as pd\n",
        "\n",
        "# Model performance metrics\n",
        "model_performance = {\n",
        "    \"Model\": [\"Logistic Regression\", \"Random Forest\", \"Gradient Boosting\", \"SVM\"],\n",
        "    \"Accuracy\": [0.25, 0.98, 0.99, 0.24],\n",
        "    \"Precision\": [0.18, 0.98, 0.99, 0.13],\n",
        "    \"Recall\": [0.25, 0.98, 0.99, 0.24],\n",
        "    \"F1-Score\": [0.17, 0.98, 0.99, 0.14]\n",
        "}\n",
        "\n",
        "# Convert dictionary to DataFrame\n",
        "model_performance_df = pd.DataFrame(model_performance)\n",
        "\n",
        "# Display the DataFrame\n",
        "model_performance_df"
      ],
      "metadata": {
        "colab": {
          "base_uri": "https://localhost:8080/",
          "height": 175
        },
        "id": "STbo_0snHXcg",
        "outputId": "12622a39-68a9-4b34-8bff-51b7714f38fe"
      },
      "execution_count": 43,
      "outputs": [
        {
          "output_type": "execute_result",
          "data": {
            "text/plain": [
              "                 Model  Accuracy  Precision  Recall  F1-Score\n",
              "0  Logistic Regression      0.25       0.18    0.25      0.17\n",
              "1        Random Forest      0.98       0.98    0.98      0.98\n",
              "2    Gradient Boosting      0.99       0.99    0.99      0.99\n",
              "3                  SVM      0.24       0.13    0.24      0.14"
            ],
            "text/html": [
              "\n",
              "  <div id=\"df-7c83fc5f-a2e0-40e1-adfc-f2056d81080e\" class=\"colab-df-container\">\n",
              "    <div>\n",
              "<style scoped>\n",
              "    .dataframe tbody tr th:only-of-type {\n",
              "        vertical-align: middle;\n",
              "    }\n",
              "\n",
              "    .dataframe tbody tr th {\n",
              "        vertical-align: top;\n",
              "    }\n",
              "\n",
              "    .dataframe thead th {\n",
              "        text-align: right;\n",
              "    }\n",
              "</style>\n",
              "<table border=\"1\" class=\"dataframe\">\n",
              "  <thead>\n",
              "    <tr style=\"text-align: right;\">\n",
              "      <th></th>\n",
              "      <th>Model</th>\n",
              "      <th>Accuracy</th>\n",
              "      <th>Precision</th>\n",
              "      <th>Recall</th>\n",
              "      <th>F1-Score</th>\n",
              "    </tr>\n",
              "  </thead>\n",
              "  <tbody>\n",
              "    <tr>\n",
              "      <th>0</th>\n",
              "      <td>Logistic Regression</td>\n",
              "      <td>0.25</td>\n",
              "      <td>0.18</td>\n",
              "      <td>0.25</td>\n",
              "      <td>0.17</td>\n",
              "    </tr>\n",
              "    <tr>\n",
              "      <th>1</th>\n",
              "      <td>Random Forest</td>\n",
              "      <td>0.98</td>\n",
              "      <td>0.98</td>\n",
              "      <td>0.98</td>\n",
              "      <td>0.98</td>\n",
              "    </tr>\n",
              "    <tr>\n",
              "      <th>2</th>\n",
              "      <td>Gradient Boosting</td>\n",
              "      <td>0.99</td>\n",
              "      <td>0.99</td>\n",
              "      <td>0.99</td>\n",
              "      <td>0.99</td>\n",
              "    </tr>\n",
              "    <tr>\n",
              "      <th>3</th>\n",
              "      <td>SVM</td>\n",
              "      <td>0.24</td>\n",
              "      <td>0.13</td>\n",
              "      <td>0.24</td>\n",
              "      <td>0.14</td>\n",
              "    </tr>\n",
              "  </tbody>\n",
              "</table>\n",
              "</div>\n",
              "    <div class=\"colab-df-buttons\">\n",
              "\n",
              "  <div class=\"colab-df-container\">\n",
              "    <button class=\"colab-df-convert\" onclick=\"convertToInteractive('df-7c83fc5f-a2e0-40e1-adfc-f2056d81080e')\"\n",
              "            title=\"Convert this dataframe to an interactive table.\"\n",
              "            style=\"display:none;\">\n",
              "\n",
              "  <svg xmlns=\"http://www.w3.org/2000/svg\" height=\"24px\" viewBox=\"0 -960 960 960\">\n",
              "    <path d=\"M120-120v-720h720v720H120Zm60-500h600v-160H180v160Zm220 220h160v-160H400v160Zm0 220h160v-160H400v160ZM180-400h160v-160H180v160Zm440 0h160v-160H620v160ZM180-180h160v-160H180v160Zm440 0h160v-160H620v160Z\"/>\n",
              "  </svg>\n",
              "    </button>\n",
              "\n",
              "  <style>\n",
              "    .colab-df-container {\n",
              "      display:flex;\n",
              "      gap: 12px;\n",
              "    }\n",
              "\n",
              "    .colab-df-convert {\n",
              "      background-color: #E8F0FE;\n",
              "      border: none;\n",
              "      border-radius: 50%;\n",
              "      cursor: pointer;\n",
              "      display: none;\n",
              "      fill: #1967D2;\n",
              "      height: 32px;\n",
              "      padding: 0 0 0 0;\n",
              "      width: 32px;\n",
              "    }\n",
              "\n",
              "    .colab-df-convert:hover {\n",
              "      background-color: #E2EBFA;\n",
              "      box-shadow: 0px 1px 2px rgba(60, 64, 67, 0.3), 0px 1px 3px 1px rgba(60, 64, 67, 0.15);\n",
              "      fill: #174EA6;\n",
              "    }\n",
              "\n",
              "    .colab-df-buttons div {\n",
              "      margin-bottom: 4px;\n",
              "    }\n",
              "\n",
              "    [theme=dark] .colab-df-convert {\n",
              "      background-color: #3B4455;\n",
              "      fill: #D2E3FC;\n",
              "    }\n",
              "\n",
              "    [theme=dark] .colab-df-convert:hover {\n",
              "      background-color: #434B5C;\n",
              "      box-shadow: 0px 1px 3px 1px rgba(0, 0, 0, 0.15);\n",
              "      filter: drop-shadow(0px 1px 2px rgba(0, 0, 0, 0.3));\n",
              "      fill: #FFFFFF;\n",
              "    }\n",
              "  </style>\n",
              "\n",
              "    <script>\n",
              "      const buttonEl =\n",
              "        document.querySelector('#df-7c83fc5f-a2e0-40e1-adfc-f2056d81080e button.colab-df-convert');\n",
              "      buttonEl.style.display =\n",
              "        google.colab.kernel.accessAllowed ? 'block' : 'none';\n",
              "\n",
              "      async function convertToInteractive(key) {\n",
              "        const element = document.querySelector('#df-7c83fc5f-a2e0-40e1-adfc-f2056d81080e');\n",
              "        const dataTable =\n",
              "          await google.colab.kernel.invokeFunction('convertToInteractive',\n",
              "                                                    [key], {});\n",
              "        if (!dataTable) return;\n",
              "\n",
              "        const docLinkHtml = 'Like what you see? Visit the ' +\n",
              "          '<a target=\"_blank\" href=https://colab.research.google.com/notebooks/data_table.ipynb>data table notebook</a>'\n",
              "          + ' to learn more about interactive tables.';\n",
              "        element.innerHTML = '';\n",
              "        dataTable['output_type'] = 'display_data';\n",
              "        await google.colab.output.renderOutput(dataTable, element);\n",
              "        const docLink = document.createElement('div');\n",
              "        docLink.innerHTML = docLinkHtml;\n",
              "        element.appendChild(docLink);\n",
              "      }\n",
              "    </script>\n",
              "  </div>\n",
              "\n",
              "\n",
              "<div id=\"df-697784ef-03c3-4b09-94e3-93914b1a8af0\">\n",
              "  <button class=\"colab-df-quickchart\" onclick=\"quickchart('df-697784ef-03c3-4b09-94e3-93914b1a8af0')\"\n",
              "            title=\"Suggest charts\"\n",
              "            style=\"display:none;\">\n",
              "\n",
              "<svg xmlns=\"http://www.w3.org/2000/svg\" height=\"24px\"viewBox=\"0 0 24 24\"\n",
              "     width=\"24px\">\n",
              "    <g>\n",
              "        <path d=\"M19 3H5c-1.1 0-2 .9-2 2v14c0 1.1.9 2 2 2h14c1.1 0 2-.9 2-2V5c0-1.1-.9-2-2-2zM9 17H7v-7h2v7zm4 0h-2V7h2v10zm4 0h-2v-4h2v4z\"/>\n",
              "    </g>\n",
              "</svg>\n",
              "  </button>\n",
              "\n",
              "<style>\n",
              "  .colab-df-quickchart {\n",
              "      --bg-color: #E8F0FE;\n",
              "      --fill-color: #1967D2;\n",
              "      --hover-bg-color: #E2EBFA;\n",
              "      --hover-fill-color: #174EA6;\n",
              "      --disabled-fill-color: #AAA;\n",
              "      --disabled-bg-color: #DDD;\n",
              "  }\n",
              "\n",
              "  [theme=dark] .colab-df-quickchart {\n",
              "      --bg-color: #3B4455;\n",
              "      --fill-color: #D2E3FC;\n",
              "      --hover-bg-color: #434B5C;\n",
              "      --hover-fill-color: #FFFFFF;\n",
              "      --disabled-bg-color: #3B4455;\n",
              "      --disabled-fill-color: #666;\n",
              "  }\n",
              "\n",
              "  .colab-df-quickchart {\n",
              "    background-color: var(--bg-color);\n",
              "    border: none;\n",
              "    border-radius: 50%;\n",
              "    cursor: pointer;\n",
              "    display: none;\n",
              "    fill: var(--fill-color);\n",
              "    height: 32px;\n",
              "    padding: 0;\n",
              "    width: 32px;\n",
              "  }\n",
              "\n",
              "  .colab-df-quickchart:hover {\n",
              "    background-color: var(--hover-bg-color);\n",
              "    box-shadow: 0 1px 2px rgba(60, 64, 67, 0.3), 0 1px 3px 1px rgba(60, 64, 67, 0.15);\n",
              "    fill: var(--button-hover-fill-color);\n",
              "  }\n",
              "\n",
              "  .colab-df-quickchart-complete:disabled,\n",
              "  .colab-df-quickchart-complete:disabled:hover {\n",
              "    background-color: var(--disabled-bg-color);\n",
              "    fill: var(--disabled-fill-color);\n",
              "    box-shadow: none;\n",
              "  }\n",
              "\n",
              "  .colab-df-spinner {\n",
              "    border: 2px solid var(--fill-color);\n",
              "    border-color: transparent;\n",
              "    border-bottom-color: var(--fill-color);\n",
              "    animation:\n",
              "      spin 1s steps(1) infinite;\n",
              "  }\n",
              "\n",
              "  @keyframes spin {\n",
              "    0% {\n",
              "      border-color: transparent;\n",
              "      border-bottom-color: var(--fill-color);\n",
              "      border-left-color: var(--fill-color);\n",
              "    }\n",
              "    20% {\n",
              "      border-color: transparent;\n",
              "      border-left-color: var(--fill-color);\n",
              "      border-top-color: var(--fill-color);\n",
              "    }\n",
              "    30% {\n",
              "      border-color: transparent;\n",
              "      border-left-color: var(--fill-color);\n",
              "      border-top-color: var(--fill-color);\n",
              "      border-right-color: var(--fill-color);\n",
              "    }\n",
              "    40% {\n",
              "      border-color: transparent;\n",
              "      border-right-color: var(--fill-color);\n",
              "      border-top-color: var(--fill-color);\n",
              "    }\n",
              "    60% {\n",
              "      border-color: transparent;\n",
              "      border-right-color: var(--fill-color);\n",
              "    }\n",
              "    80% {\n",
              "      border-color: transparent;\n",
              "      border-right-color: var(--fill-color);\n",
              "      border-bottom-color: var(--fill-color);\n",
              "    }\n",
              "    90% {\n",
              "      border-color: transparent;\n",
              "      border-bottom-color: var(--fill-color);\n",
              "    }\n",
              "  }\n",
              "</style>\n",
              "\n",
              "  <script>\n",
              "    async function quickchart(key) {\n",
              "      const quickchartButtonEl =\n",
              "        document.querySelector('#' + key + ' button');\n",
              "      quickchartButtonEl.disabled = true;  // To prevent multiple clicks.\n",
              "      quickchartButtonEl.classList.add('colab-df-spinner');\n",
              "      try {\n",
              "        const charts = await google.colab.kernel.invokeFunction(\n",
              "            'suggestCharts', [key], {});\n",
              "      } catch (error) {\n",
              "        console.error('Error during call to suggestCharts:', error);\n",
              "      }\n",
              "      quickchartButtonEl.classList.remove('colab-df-spinner');\n",
              "      quickchartButtonEl.classList.add('colab-df-quickchart-complete');\n",
              "    }\n",
              "    (() => {\n",
              "      let quickchartButtonEl =\n",
              "        document.querySelector('#df-697784ef-03c3-4b09-94e3-93914b1a8af0 button');\n",
              "      quickchartButtonEl.style.display =\n",
              "        google.colab.kernel.accessAllowed ? 'block' : 'none';\n",
              "    })();\n",
              "  </script>\n",
              "</div>\n",
              "\n",
              "  <div id=\"id_c52fb12b-127a-4509-8d22-e488d16da23c\">\n",
              "    <style>\n",
              "      .colab-df-generate {\n",
              "        background-color: #E8F0FE;\n",
              "        border: none;\n",
              "        border-radius: 50%;\n",
              "        cursor: pointer;\n",
              "        display: none;\n",
              "        fill: #1967D2;\n",
              "        height: 32px;\n",
              "        padding: 0 0 0 0;\n",
              "        width: 32px;\n",
              "      }\n",
              "\n",
              "      .colab-df-generate:hover {\n",
              "        background-color: #E2EBFA;\n",
              "        box-shadow: 0px 1px 2px rgba(60, 64, 67, 0.3), 0px 1px 3px 1px rgba(60, 64, 67, 0.15);\n",
              "        fill: #174EA6;\n",
              "      }\n",
              "\n",
              "      [theme=dark] .colab-df-generate {\n",
              "        background-color: #3B4455;\n",
              "        fill: #D2E3FC;\n",
              "      }\n",
              "\n",
              "      [theme=dark] .colab-df-generate:hover {\n",
              "        background-color: #434B5C;\n",
              "        box-shadow: 0px 1px 3px 1px rgba(0, 0, 0, 0.15);\n",
              "        filter: drop-shadow(0px 1px 2px rgba(0, 0, 0, 0.3));\n",
              "        fill: #FFFFFF;\n",
              "      }\n",
              "    </style>\n",
              "    <button class=\"colab-df-generate\" onclick=\"generateWithVariable('model_performance_df')\"\n",
              "            title=\"Generate code using this dataframe.\"\n",
              "            style=\"display:none;\">\n",
              "\n",
              "  <svg xmlns=\"http://www.w3.org/2000/svg\" height=\"24px\"viewBox=\"0 0 24 24\"\n",
              "       width=\"24px\">\n",
              "    <path d=\"M7,19H8.4L18.45,9,17,7.55,7,17.6ZM5,21V16.75L18.45,3.32a2,2,0,0,1,2.83,0l1.4,1.43a1.91,1.91,0,0,1,.58,1.4,1.91,1.91,0,0,1-.58,1.4L9.25,21ZM18.45,9,17,7.55Zm-12,3A5.31,5.31,0,0,0,4.9,8.1,5.31,5.31,0,0,0,1,6.5,5.31,5.31,0,0,0,4.9,4.9,5.31,5.31,0,0,0,6.5,1,5.31,5.31,0,0,0,8.1,4.9,5.31,5.31,0,0,0,12,6.5,5.46,5.46,0,0,0,6.5,12Z\"/>\n",
              "  </svg>\n",
              "    </button>\n",
              "    <script>\n",
              "      (() => {\n",
              "      const buttonEl =\n",
              "        document.querySelector('#id_c52fb12b-127a-4509-8d22-e488d16da23c button.colab-df-generate');\n",
              "      buttonEl.style.display =\n",
              "        google.colab.kernel.accessAllowed ? 'block' : 'none';\n",
              "\n",
              "      buttonEl.onclick = () => {\n",
              "        google.colab.notebook.generateWithVariable('model_performance_df');\n",
              "      }\n",
              "      })();\n",
              "    </script>\n",
              "  </div>\n",
              "\n",
              "    </div>\n",
              "  </div>\n"
            ],
            "application/vnd.google.colaboratory.intrinsic+json": {
              "type": "dataframe",
              "variable_name": "model_performance_df",
              "summary": "{\n  \"name\": \"model_performance_df\",\n  \"rows\": 4,\n  \"fields\": [\n    {\n      \"column\": \"Model\",\n      \"properties\": {\n        \"dtype\": \"string\",\n        \"num_unique_values\": 4,\n        \"samples\": [\n          \"Random Forest\",\n          \"SVM\",\n          \"Logistic Regression\"\n        ],\n        \"semantic_type\": \"\",\n        \"description\": \"\"\n      }\n    },\n    {\n      \"column\": \"Accuracy\",\n      \"properties\": {\n        \"dtype\": \"number\",\n        \"std\": 0.427278207572849,\n        \"min\": 0.24,\n        \"max\": 0.99,\n        \"num_unique_values\": 4,\n        \"samples\": [\n          0.98,\n          0.24,\n          0.25\n        ],\n        \"semantic_type\": \"\",\n        \"description\": \"\"\n      }\n    },\n    {\n      \"column\": \"Precision\",\n      \"properties\": {\n        \"dtype\": \"number\",\n        \"std\": 0.4796526521001074,\n        \"min\": 0.13,\n        \"max\": 0.99,\n        \"num_unique_values\": 4,\n        \"samples\": [\n          0.98,\n          0.13,\n          0.18\n        ],\n        \"semantic_type\": \"\",\n        \"description\": \"\"\n      }\n    },\n    {\n      \"column\": \"Recall\",\n      \"properties\": {\n        \"dtype\": \"number\",\n        \"std\": 0.427278207572849,\n        \"min\": 0.24,\n        \"max\": 0.99,\n        \"num_unique_values\": 4,\n        \"samples\": [\n          0.98,\n          0.24,\n          0.25\n        ],\n        \"semantic_type\": \"\",\n        \"description\": \"\"\n      }\n    },\n    {\n      \"column\": \"F1-Score\",\n      \"properties\": {\n        \"dtype\": \"number\",\n        \"std\": 0.47937459256827536,\n        \"min\": 0.14,\n        \"max\": 0.99,\n        \"num_unique_values\": 4,\n        \"samples\": [\n          0.98,\n          0.14,\n          0.17\n        ],\n        \"semantic_type\": \"\",\n        \"description\": \"\"\n      }\n    }\n  ]\n}"
            }
          },
          "metadata": {},
          "execution_count": 43
        }
      ]
    },
    {
      "cell_type": "markdown",
      "source": [
        "### Why Random Forest and Gradient Boosting Outperform SVM and Logistic Regression\n",
        "\n",
        "The significantly better performance of \"Random Forest\" and \"Gradient Boosting\" compared to \"SVM\" (Support Vector Machine) and \"Logistic Regression\" can be attributed to several factors that relate to the nature of the data and the inherent characteristics of these models:\n",
        "\n",
        "1. **Handling Non-linear Relationships**: Random Forest and Gradient Boosting are ensemble methods that can naturally handle non-linear relationships between features and the target variable. They do this by building multiple decision trees, each capturing different aspects and patterns within the data. In contrast, standard Logistic Regression assumes a linear relationship between features and the log odds of the target, and SVM (with linear kernel) also primarily models linear boundaries unless explicitly given a non-linear kernel.\n",
        "\n",
        "2. **Feature Interactions**: Both Random Forest and Gradient Boosting are adept at capturing complex interactions between features without needing explicit feature engineering. They do this through the hierarchical structure of decision trees. Logistic Regression and linear SVM, unless augmented with polynomial features or non-linear kernels, might miss these interactions.\n",
        "\n",
        "3. **Robustness to Imbalanced Data**: Ensemble methods, especially Random Forest, have shown resilience to imbalanced datasets by nature of constructing multiple trees and aggregating their predictions. This can make them more effective in scenarios where classes are imbalanced, as might be the case in your dataset.\n",
        "\n",
        "4. **Hyperparameter Tuning and Model Complexity**: Random Forest and Gradient Boosting have multiple hyperparameters that can be tuned to improve model performance significantly. While SVM and Logistic Regression also offer hyperparameter tuning, the flexibility and adaptability offered by ensemble methods through parameters like the number of trees, depth of each tree, and learning rate (for Gradient Boosting) often lead to better performance on a wider range of datasets.\n",
        "\n",
        "5. **Generalization Ability**: Ensemble methods, particularly Gradient Boosting, are designed to sequentially correct errors of the trees that came before them (in the case of boosting) or to build a strong predictor from many weak ones (in the case of Random Forest), which can lead to a model that generalizes well to unseen data, assuming that overfitting is controlled through proper hyperparameter tuning.\n",
        "\n",
        "In summary, while SVM and Logistic Regression can perform well in certain contexts, especially with linearly separable data or when simplicity and interpretability are prioritized, Random Forest and Gradient Boosting are often more capable of handling complex, high-dimensional, and non-linear datasets, leading to their superior performance in many classification tasks."
      ],
      "metadata": {
        "id": "EWob5YlQT7Cr"
      }
    },
    {
      "cell_type": "code",
      "source": [],
      "metadata": {
        "id": "xOgFrw3tRPUv"
      },
      "execution_count": null,
      "outputs": []
    }
  ]
}